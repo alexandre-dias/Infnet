{
  "nbformat": 4,
  "nbformat_minor": 0,
  "metadata": {
    "colab": {
      "name": "ALEXANDRE_DIAS_DR1_AT.ipynb",
      "provenance": [],
      "collapsed_sections": [],
      "authorship_tag": "ABX9TyNY2qm04DenrL599oUN+/wd",
      "include_colab_link": true
    },
    "kernelspec": {
      "name": "python3",
      "display_name": "Python 3"
    }
  },
  "cells": [
    {
      "cell_type": "markdown",
      "metadata": {
        "id": "view-in-github",
        "colab_type": "text"
      },
      "source": [
        "<a href=\"https://colab.research.google.com/github/alexandre-dias/Infnet/blob/main/ALEXANDRE_DIAS_DR1_AT.ipynb\" target=\"_parent\"><img src=\"https://colab.research.google.com/assets/colab-badge.svg\" alt=\"Open In Colab\"/></a>"
      ]
    },
    {
      "cell_type": "code",
      "metadata": {
        "colab": {
          "base_uri": "https://localhost:8080/"
        },
        "id": "tiMH7jJKeH6A",
        "outputId": "b9645a73-1e16-4edf-d8ff-0e837fa37ce0"
      },
      "source": [
        "def questao03():\n",
        "  renda = input('Renda mensal total: R$')\n",
        "  \n",
        "  tipo = ['moradia', 'educação', 'transporte']\n",
        "  valor_max = [30, 20, 15]\n",
        "  \n",
        "  contador = 0\n",
        "  for i in tipo:\n",
        "    custo = input(f'Gastos totais com {i}: R$')\n",
        "    if contador == 0:\n",
        "      custo_moradia = custo\n",
        "    elif contador == 1:\n",
        "      custo_educacao = custo\n",
        "    else:\n",
        "      custo_transporte = custo\n",
        "    contador = contador + 1\n",
        "    \n",
        "  custo_moradia = (float(custo_moradia) * 100) / float(renda)\n",
        "  custo_educacao = (float(custo_educacao) * 100) / float(renda)\n",
        "  custo_transporte = (float(custo_transporte) * 100) / float(renda)\n",
        "\n",
        "  print('Diagnóstico:')\n",
        "  if float(custo_moradia) > valor_max[0]:  \n",
        "      ideal = (float(renda) * valor_max[0]) / 100\n",
        "      print(f'Seus gastos totais com {tipo[0]} comprometem {custo_moradia}% de sua renda total. O máximo recomendado é de {valor_max[0]}%. Portanto, idealmente, o máximo de sua renda comprometida com moradia deveria ser de R${ideal}.')\n",
        "  else:\n",
        "      print(f'Seus gastos totais com {tipo[0]} comprometem {custo_moradia}% de sua renda total. O máximo recomendado é de {valor_max[0]}%. Seus gastos estão dentro da margem recomendada.')\n",
        "\n",
        "  if float(custo_educacao) > valor_max[1]:\n",
        "      ideal = (float(renda) * valor_max[1]) / 100\n",
        "      print(f'Seus gastos totais com {tipo[1]} comprometem {custo_educacao}% de sua renda total. O máximo recomendado é de {valor_max[1]}%. Portanto, idealmente, o máximo de sua renda comprometida com moradia deveria ser de R${ideal}.')\n",
        "  else:\n",
        "      print(f'Seus gastos totais com {tipo[1]} comprometem {custo_educacao}% de sua renda total. O máximo recomendado é de {valor_max[1]}%. Seus gastos estão dentro da margem recomendada.')\n",
        "\n",
        "  if float(custo_transporte) > valor_max[2]:\n",
        "      ideal = (float(renda) * valor_max[2]) / 100\n",
        "      print(f'Seus gastos totais com {tipo[2]}comprometem {custo_transporte}% de sua renda total. O máximo recomendado é de {valor_max[2]}%. Portanto, idealmente, o máximo de sua renda comprometida com moradia deveria ser de R${ideal}.')\n",
        "  else:\n",
        "      print(f'Seus gastos totais com {tipo[2]} comprometem {custo_transporte}% de sua renda total. O máximo recomendado é de {valor_max[2]}%. Seus gastos estão dentro da margem recomendada.')  \n",
        "questao03()"
      ],
      "execution_count": null,
      "outputs": [
        {
          "output_type": "stream",
          "text": [
            "Renda mensal total: R$700\n",
            "Gastos totais com moradia: R$9000\n",
            "Gastos totais com educação: R$20000\n",
            "Gastos totais com transporte: R$1\n",
            "Diagnóstico:\n",
            "Seus gastos totais com moradia comprometem 1285.7142857142858% de sua renda total. O máximo recomendado é de 30%. Portanto, idealmente, o máximo de sua renda comprometida com moradia deveria ser de R$210.0.\n",
            "Seus gastos totais com educação comprometem 2857.1428571428573% de sua renda total. O máximo recomendado é de 20%. Portanto, idealmente, o máximo de sua renda comprometida com moradia deveria ser de R$140.0.\n",
            "Seus gastos totais com transporte comprometem 0.14285714285714285% de sua renda total. O máximo recomendado é de 15%. Seus gastos estão dentro da margem recomendada.\n"
          ],
          "name": "stdout"
        }
      ]
    },
    {
      "cell_type": "code",
      "metadata": {
        "colab": {
          "base_uri": "https://localhost:8080/",
          "height": 1000
        },
        "id": "Nki1AXEec4Ck",
        "outputId": "137e9db3-c7ef-4727-9169-d62ef5865a60"
      },
      "source": [
        "depósito = float(input(\"Valor inicial: \"))\n",
        "taxa = float(input(\"Rendimento por período (%): \"))\n",
        "investimento = float(input(\"Aporte a cada período:\"))\n",
        "periodo = float(input('Total de períodos: '))\n",
        "\n",
        "def questao04_a():\n",
        "  mes = 1\n",
        "  saldo = depósito\n",
        "  while mes <= periodo:\n",
        "      saldo = saldo + (saldo * (taxa / 100)) + investimento\n",
        "      print (\"Após %d período(s), o montante será de R$%5.2f.\" % (mes, saldo))\n",
        "      mes = mes + 1\n",
        "questao04_a()\n",
        "\n",
        "def questao04_b():\n",
        "  import matplotlib.pyplot as plt\n",
        "  \n",
        "  lista_periodo = [] # eixo x do gráfico\n",
        "  lista_saldo = [] # eixo y do gráfico\n",
        "\n",
        "  mes = 1\n",
        "  saldo = depósito\n",
        "  while mes <= periodo:\n",
        "      saldo = saldo + (saldo * (taxa / 100)) + investimento\n",
        "      mes = mes + 1\n",
        "  \n",
        "      lista_periodo.append(mes)\n",
        "      lista_saldo.append(saldo)\n",
        "      plt.plot(lista_periodo, lista_saldo, 'yo--')\n",
        "\n",
        "  plt.ylabel('Valor acumulado em R$')\n",
        "  plt.xlabel('Período')\n",
        "  plt.show()\n",
        "questao04_b()"
      ],
      "execution_count": null,
      "outputs": [
        {
          "output_type": "stream",
          "text": [
            "Valor inicial: 10000\n",
            "Rendimento por período (%): 0.54\n",
            "Aporte a cada período:1000\n",
            "Total de períodos: 120\n",
            "Após 1 período(s), o montante será de R$11054.00.\n",
            "Após 2 período(s), o montante será de R$12113.69.\n",
            "Após 3 período(s), o montante será de R$13179.11.\n",
            "Após 4 período(s), o montante será de R$14250.27.\n",
            "Após 5 período(s), o montante será de R$15327.22.\n",
            "Após 6 período(s), o montante será de R$16409.99.\n",
            "Após 7 período(s), o montante será de R$17498.61.\n",
            "Após 8 período(s), o montante será de R$18593.10.\n",
            "Após 9 período(s), o montante será de R$19693.50.\n",
            "Após 10 período(s), o montante será de R$20799.85.\n",
            "Após 11 período(s), o montante será de R$21912.16.\n",
            "Após 12 período(s), o montante será de R$23030.49.\n",
            "Após 13 período(s), o montante será de R$24154.85.\n",
            "Após 14 período(s), o montante será de R$25285.29.\n",
            "Após 15 período(s), o montante será de R$26421.83.\n",
            "Após 16 período(s), o montante será de R$27564.51.\n",
            "Após 17 período(s), o montante será de R$28713.36.\n",
            "Após 18 período(s), o montante será de R$29868.41.\n",
            "Após 19 período(s), o montante será de R$31029.70.\n",
            "Após 20 período(s), o montante será de R$32197.26.\n",
            "Após 21 período(s), o montante será de R$33371.12.\n",
            "Após 22 período(s), o montante será de R$34551.33.\n",
            "Após 23 período(s), o montante será de R$35737.91.\n",
            "Após 24 período(s), o montante será de R$36930.89.\n",
            "Após 25 período(s), o montante será de R$38130.32.\n",
            "Após 26 período(s), o montante será de R$39336.22.\n",
            "Após 27 período(s), o montante será de R$40548.64.\n",
            "Após 28 período(s), o montante será de R$41767.60.\n",
            "Após 29 período(s), o montante será de R$42993.14.\n",
            "Após 30 período(s), o montante será de R$44225.31.\n",
            "Após 31 período(s), o montante será de R$45464.12.\n",
            "Após 32 período(s), o montante será de R$46709.63.\n",
            "Após 33 período(s), o montante será de R$47961.86.\n",
            "Após 34 período(s), o montante será de R$49220.86.\n",
            "Após 35 período(s), o montante será de R$50486.65.\n",
            "Após 36 período(s), o montante será de R$51759.28.\n",
            "Após 37 período(s), o montante será de R$53038.78.\n",
            "Após 38 período(s), o montante será de R$54325.19.\n",
            "Após 39 período(s), o montante será de R$55618.54.\n",
            "Após 40 período(s), o montante será de R$56918.88.\n",
            "Após 41 período(s), o montante será de R$58226.24.\n",
            "Após 42 período(s), o montante será de R$59540.67.\n",
            "Após 43 período(s), o montante será de R$60862.19.\n",
            "Após 44 período(s), o montante será de R$62190.84.\n",
            "Após 45 período(s), o montante será de R$63526.67.\n",
            "Após 46 período(s), o montante será de R$64869.72.\n",
            "Após 47 período(s), o montante será de R$66220.01.\n",
            "Após 48 período(s), o montante será de R$67577.60.\n",
            "Após 49 período(s), o montante será de R$68942.52.\n",
            "Após 50 período(s), o montante será de R$70314.81.\n",
            "Após 51 período(s), o montante será de R$71694.51.\n",
            "Após 52 período(s), o montante será de R$73081.66.\n",
            "Após 53 período(s), o montante será de R$74476.30.\n",
            "Após 54 período(s), o montante será de R$75878.47.\n",
            "Após 55 período(s), o montante será de R$77288.22.\n",
            "Após 56 período(s), o montante será de R$78705.57.\n",
            "Após 57 período(s), o montante será de R$80130.58.\n",
            "Após 58 período(s), o montante será de R$81563.29.\n",
            "Após 59 período(s), o montante será de R$83003.73.\n",
            "Após 60 período(s), o montante será de R$84451.95.\n",
            "Após 61 período(s), o montante será de R$85907.99.\n",
            "Após 62 período(s), o montante será de R$87371.89.\n",
            "Após 63 período(s), o montante será de R$88843.70.\n",
            "Após 64 período(s), o montante será de R$90323.46.\n",
            "Após 65 período(s), o montante será de R$91811.20.\n",
            "Após 66 período(s), o montante será de R$93306.99.\n",
            "Após 67 período(s), o montante será de R$94810.84.\n",
            "Após 68 período(s), o montante será de R$96322.82.\n",
            "Após 69 período(s), o montante será de R$97842.96.\n",
            "Após 70 período(s), o montante será de R$99371.32.\n",
            "Após 71 período(s), o montante será de R$100907.92.\n",
            "Após 72 período(s), o montante será de R$102452.82.\n",
            "Após 73 período(s), o montante será de R$104006.07.\n",
            "Após 74 período(s), o montante será de R$105567.70.\n",
            "Após 75 período(s), o montante será de R$107137.77.\n",
            "Após 76 período(s), o montante será de R$108716.31.\n",
            "Após 77 período(s), o montante será de R$110303.38.\n",
            "Após 78 período(s), o montante será de R$111899.02.\n",
            "Após 79 período(s), o montante será de R$113503.27.\n",
            "Após 80 período(s), o montante será de R$115116.19.\n",
            "Após 81 período(s), o montante será de R$116737.82.\n",
            "Após 82 período(s), o montante será de R$118368.20.\n",
            "Após 83 período(s), o montante será de R$120007.39.\n",
            "Após 84 período(s), o montante será de R$121655.43.\n",
            "Após 85 período(s), o montante será de R$123312.37.\n",
            "Após 86 período(s), o montante será de R$124978.26.\n",
            "Após 87 período(s), o montante será de R$126653.14.\n",
            "Após 88 período(s), o montante será de R$128337.07.\n",
            "Após 89 período(s), o montante será de R$130030.09.\n",
            "Após 90 período(s), o montante será de R$131732.25.\n",
            "Após 91 período(s), o montante será de R$133443.60.\n",
            "Após 92 período(s), o montante será de R$135164.20.\n",
            "Após 93 período(s), o montante será de R$136894.09.\n",
            "Após 94 período(s), o montante será de R$138633.31.\n",
            "Após 95 período(s), o montante será de R$140381.93.\n",
            "Após 96 período(s), o montante será de R$142140.00.\n",
            "Após 97 período(s), o montante será de R$143907.55.\n",
            "Após 98 período(s), o montante será de R$145684.65.\n",
            "Após 99 período(s), o montante será de R$147471.35.\n",
            "Após 100 período(s), o montante será de R$149267.69.\n",
            "Após 101 período(s), o montante será de R$151073.74.\n",
            "Após 102 período(s), o montante será de R$152889.54.\n",
            "Após 103 período(s), o montante será de R$154715.14.\n",
            "Após 104 período(s), o montante será de R$156550.60.\n",
            "Após 105 período(s), o montante será de R$158395.98.\n",
            "Após 106 período(s), o montante será de R$160251.32.\n",
            "Após 107 período(s), o montante será de R$162116.67.\n",
            "Após 108 período(s), o montante será de R$163992.10.\n",
            "Após 109 período(s), o montante será de R$165877.66.\n",
            "Após 110 período(s), o montante será de R$167773.40.\n",
            "Após 111 período(s), o montante será de R$169679.38.\n",
            "Após 112 período(s), o montante será de R$171595.64.\n",
            "Após 113 período(s), o montante será de R$173522.26.\n",
            "Após 114 período(s), o montante será de R$175459.28.\n",
            "Após 115 período(s), o montante será de R$177406.76.\n",
            "Após 116 período(s), o montante será de R$179364.76.\n",
            "Após 117 período(s), o montante será de R$181333.33.\n",
            "Após 118 período(s), o montante será de R$183312.53.\n",
            "Após 119 período(s), o montante será de R$185302.42.\n",
            "Após 120 período(s), o montante será de R$187303.05.\n"
          ],
          "name": "stdout"
        },
        {
          "output_type": "display_data",
          "data": {
            "image/png": "[encoded data removed]",
            "text/plain": [
              "<Figure size 432x288 with 1 Axes>"
            ]
          },
          "metadata": {
            "tags": [],
            "needs_background": "light"
          }
        }
      ]
    },
    {
      "cell_type": "code",
      "metadata": {
        "colab": {
          "base_uri": "https://localhost:8080/"
        },
        "id": "g5UvT2Ln219e",
        "outputId": "437d6e0a-6952-47dc-d86f-89436201114d"
      },
      "source": [
        "def questao05_a():\n",
        "\n",
        "  import pandas as pd\n",
        "\n",
        "  pais = input('Informe um país: ')\n",
        "  ano = input('Informe um ano entre 2013 e 2020: ')\n",
        "\n",
        "  df = pd.read_csv('Assessment_PIBs - Planilha1.csv')\n",
        "\n",
        "  # print(df)\n",
        "\n",
        "  with open('Assessment_PIBs - Planilha1.csv', 'r') as arquivo:\n",
        "    conteudo = arquivo.read()\n",
        "\n",
        "  try:\n",
        "    existe_pais = df.loc[df['País'] == pais, ano].values[0]\n",
        "    print(f'PIB {pais} em {ano}: US${existe_pais} trilhões.')\n",
        "  except:\n",
        "    if not pais in conteudo:\n",
        "      print('País não disponível.')\n",
        "    if not ano in conteudo:\n",
        "     print('Ano não disponível.')\n",
        "questao05_a()"
      ],
      "execution_count": null,
      "outputs": [
        {
          "output_type": "stream",
          "text": [
            "Informe o nome de um país: Jamaica\n",
            "Informe um ano: 2020\n",
            "País não disponível.\n"
          ],
          "name": "stdout"
        }
      ]
    },
    {
      "cell_type": "code",
      "metadata": {
        "id": "tAB0AloEN3Gs",
        "colab": {
          "base_uri": "https://localhost:8080/"
        },
        "outputId": "79f1227f-8ef4-477d-89be-ec5036267f3b"
      },
      "source": [
        "def questao05_b():\n",
        "\n",
        "  separador = ','\n",
        "\n",
        "  with open('Assessment_PIBs - Planilha1.csv', 'r') as arquivo:\n",
        "      for nm_linha, conteudo in enumerate(arquivo):\n",
        "          if nm_linha:\n",
        "              colunas = conteudo.strip().split(separador)\n",
        "              variancia_percentual = ((float(colunas[8]) / float(colunas[1])) - 1) * 100\n",
        "              print(f\"{colunas[0]}\\t\\t\\tVariação de {variancia_percentual:.2f}% entre 2013 e 2020.\")\n",
        "questao05_b()"
      ],
      "execution_count": null,
      "outputs": [
        {
          "output_type": "stream",
          "text": [
            "EUA\t\t\tVariação de 34.13% entre 2013 e 2020.\n",
            "China\t\t\tVariação de 70.72% entre 2013 e 2020.\n",
            "Japão\t\t\tVariação de 0.20% entre 2013 e 2020.\n",
            "Alemanha\t\t\tVariação de 9.92% entre 2013 e 2020.\n",
            "Reino Unido\t\t\tVariação de 39.18% entre 2013 e 2020.\n",
            "França\t\t\tVariação de 7.50% entre 2013 e 2020.\n",
            "Brasil\t\t\tVariação de -1.67% entre 2013 e 2020.\n",
            "Itália\t\t\tVariação de 1.88% entre 2013 e 2020.\n",
            "Índia\t\t\tVariação de 94.65% entre 2013 e 2020.\n",
            "Rússia\t\t\tVariação de 0.48% entre 2013 e 2020.\n",
            "Canadá\t\t\tVariação de 11.48% entre 2013 e 2020.\n",
            "Coreia do Sul\t\t\tVariação de 54.62% entre 2013 e 2020.\n",
            "Espanha\t\t\tVariação de 6.47% entre 2013 e 2020.\n",
            "México\t\t\tVariação de 30.95% entre 2013 e 2020.\n",
            "Indonésia\t\t\tVariação de -85.76% entre 2013 e 2020.\n"
          ],
          "name": "stdout"
        }
      ]
    },
    {
      "cell_type": "code",
      "metadata": {
        "colab": {
          "base_uri": "https://localhost:8080/",
          "height": 296
        },
        "id": "CHq5SSpLF0X7",
        "outputId": "66f601c4-1a46-470a-abd5-44b253cf3424"
      },
      "source": [
        "def questao05_c():\n",
        "  import matplotlib.pyplot as plt\n",
        "  import pandas as pd\n",
        "    \n",
        "  lista_pib = [] # eixo x do gráfico\n",
        "  lista_ano = [] # eixo y do gráfico\n",
        "\n",
        "  pais = input('Informe um país: ')\n",
        "\n",
        "  df = pd.read_csv('Assessment_PIBs - Planilha1.csv')\n",
        "\n",
        "    # print(df)\n",
        "\n",
        "  with open('Assessment_PIBs - Planilha1.csv', 'r') as arquivo:\n",
        "    conteudo = arquivo.read()\n",
        "\n",
        "    try:\n",
        "      existe_pais1 = df.loc[df['País'] == pais, '2013'].values[0]\n",
        "      existe_pais2 = df.loc[df['País'] == pais, '2014'].values[0]\n",
        "      existe_pais3 = df.loc[df['País'] == pais, '2015'].values[0]\n",
        "      existe_pais4 = df.loc[df['País'] == pais, '2016'].values[0]\n",
        "      existe_pais5 = df.loc[df['País'] == pais, '2017'].values[0]\n",
        "      existe_pais6 = df.loc[df['País'] == pais, '2018'].values[0]\n",
        "      existe_pais7 = df.loc[df['País'] == pais, '2019'].values[0]\n",
        "      existe_pais8 = df.loc[df['País'] == pais, '2020'].values[0]\n",
        "\n",
        "      lista_pib.append(existe_pais1)\n",
        "      lista_pib.append(existe_pais2)\n",
        "      lista_pib.append(existe_pais3)\n",
        "      lista_pib.append(existe_pais4)\n",
        "      lista_pib.append(existe_pais5)\n",
        "      lista_pib.append(existe_pais6)\n",
        "      lista_pib.append(existe_pais7)\n",
        "      lista_pib.append(existe_pais8)\n",
        "    \n",
        "      ano = pd.read_csv('Assessment_PIBs - Planilha1.csv', nrows=1).columns.tolist()\n",
        "      ano.pop(0)\n",
        "\n",
        "      for i in ano:\n",
        "          lista_ano.append(i)\n",
        "        \n",
        "      plt.plot(lista_ano, lista_pib, 'yo--')\n",
        "    except:\n",
        "      print('País não disponível.')\n",
        "\n",
        "  plt.ylabel('PIB')\n",
        "  plt.xlabel('Ano')\n",
        "  plt.show()\n",
        "questao05_c()"
      ],
      "execution_count": null,
      "outputs": [
        {
          "output_type": "stream",
          "text": [
            "Informe um país: EUA\n"
          ],
          "name": "stdout"
        },
        {
          "output_type": "display_data",
          "data": {
            "image/png": "[encoded data removed]",
            "text/plain": [
              "<Figure size 432x288 with 1 Axes>"
            ]
          },
          "metadata": {
            "tags": [],
            "needs_background": "light"
          }
        }
      ]
    }
  ]
}