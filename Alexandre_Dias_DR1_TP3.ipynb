{
  "nbformat": 4,
  "nbformat_minor": 0,
  "metadata": {
    "colab": {
      "name": "Alexandre_Dias__DR1_TP3.ipynb",
      "provenance": [],
      "collapsed_sections": []
    },
    "kernelspec": {
      "name": "python3",
      "display_name": "Python 3"
    }
  },
  "cells": [
    {
      "cell_type": "markdown",
      "metadata": {
        "id": "jKuM1EULobkJ"
      },
      "source": [
        "Questão 1"
      ]
    },
    {
      "cell_type": "code",
      "metadata": {
        "colab": {
          "base_uri": "https://localhost:8080/"
        },
        "id": "zA-8Z4vDoV_w",
        "outputId": "6196ed8d-79dd-41c9-c46e-a245bbcbe581"
      },
      "source": [
        "def questao_1():\n",
        "  valor_conta = float(input('Informe o valor total do consumo: R$'))\n",
        "\n",
        "  if valor_conta > 0:\n",
        "    total_pessoas = int(input('Informe o total de pessoas: '))\n",
        "\n",
        "    if total_pessoas > 0:\n",
        "\n",
        "      percentual = float(input('Informe o percentual do serviço, entre 0 e 100: '))\n",
        "\n",
        "      if (percentual < 0 or percentual > 100):\n",
        "          print('Percentual inválido.')\n",
        "      else:\n",
        "          # Cálculo do valor da conta + percentual\n",
        "          r1 = valor_conta + ((valor_conta * percentual) / 100)\n",
        "\n",
        "          # Cálculo da divisão entre pessoas\n",
        "          r2 = r1 / total_pessoas;\n",
        "\n",
        "          r1 = str(r1)\n",
        "          r2 = str(r2)\n",
        "\n",
        "          print('O valor total da conta, com a taxa de serviço, será de R$', r1.replace('.',','))\n",
        "          print(f'Dividindo a conta por {total_pessoas} pessoa(s), cada pessoa deverá pagar R$',r2.replace('.',','))\n",
        "\n",
        "    else:\n",
        "        print('Quantidade inválida de pessoas.')\n",
        "  else:\n",
        "    print('Valor inválido.')  \n",
        "\n",
        "questao_1()"
      ],
      "execution_count": null,
      "outputs": [
        {
          "output_type": "stream",
          "text": [
            "Informe o valor total do consumo: R$100\n",
            "Informe o total de pessoas: 2\n",
            "Informe o percentual do serviço, entre 0 e 100: 10\n",
            "O valor total da conta, com a taxa de serviço, será de R$ 110,0\n",
            "Dividindo a conta por 2 pessoa(s), cada pessoa deverá pagar R$ 55,0\n"
          ],
          "name": "stdout"
        }
      ]
    },
    {
      "cell_type": "markdown",
      "metadata": {
        "id": "jTWtfsxsY2ZC"
      },
      "source": [
        "Questão 2"
      ]
    },
    {
      "cell_type": "code",
      "metadata": {
        "colab": {
          "base_uri": "https://localhost:8080/"
        },
        "id": "pN_CNkqrY7GF",
        "outputId": "853c41d3-baec-42b0-dd39-92cf76a77838"
      },
      "source": [
        "def questao_2():\n",
        "  idade = int(input('Informa a idade: '))\n",
        "\n",
        "  if (idade > 0):\n",
        "    if (idade >= 18 and idade < 70):\n",
        "      print('Tem obrigação de votar.')\n",
        "    elif (idade >= 16 and idade < 18) or (idade >= 70):\n",
        "      print('Não tem obrigação de votar.')\n",
        "    else:\n",
        "      print('Não tem direito a voto.')\n",
        "  else:\n",
        "    print('Inválido')\n",
        "questao_2()"
      ],
      "execution_count": null,
      "outputs": [
        {
          "output_type": "stream",
          "text": [
            "Informa a idade: 29\n",
            "Tem obrigação de votar.\n"
          ],
          "name": "stdout"
        }
      ]
    },
    {
      "cell_type": "markdown",
      "metadata": {
        "id": "T2wRH-lYmB83"
      },
      "source": [
        "Questão 3"
      ]
    },
    {
      "cell_type": "code",
      "metadata": {
        "id": "iX-swvZ_mDOk",
        "colab": {
          "base_uri": "https://localhost:8080/"
        },
        "outputId": "c2907e75-020f-40c2-cbea-7e48a31cc931"
      },
      "source": [
        "def questao_3():\n",
        "  contador = 1\n",
        "  while contador < 6:\n",
        "    nome = input(f'Informe nome do {contador}º participante: ')\n",
        "    nota = float(input(f'Informe a nota do {contador}º participante: '))\n",
        "  \n",
        "    if nota >= 0 and nota <= 10:\n",
        "      if contador == 1:\n",
        "        maior = nota\n",
        "        nome_atual = nome\n",
        "      elif maior < nota:\n",
        "        maior = nota\n",
        "        nome_atual = nome\n",
        "      contador = contador + 1\n",
        "    else:\n",
        "      nome_atual = '-'\n",
        "      maior = '-'\n",
        "      break\n",
        "  if nome_atual == '-' and maior == '-':\n",
        "    print('Inválido.')\n",
        "  else:\n",
        "    print(f'O(a) vencedor(a) foi {nome_atual} com nota {maior}!')\n",
        "questao_3()\n"
      ],
      "execution_count": 1,
      "outputs": [
        {
          "output_type": "stream",
          "text": [
            "Informe nome do 1º participante: A\n",
            "Informe a nota do 1º participante: 7\n",
            "Informe nome do 2º participante: B\n",
            "Informe a nota do 2º participante: 6\n",
            "Informe nome do 3º participante: C\n",
            "Informe a nota do 3º participante: 7\n",
            "Informe nome do 4º participante: D\n",
            "Informe a nota do 4º participante: 9\n",
            "Informe nome do 5º participante: E\n",
            "Informe a nota do 5º participante: 2\n",
            "O(a) vencedor(a) foi D com nota 9.0!\n"
          ],
          "name": "stdout"
        }
      ]
    }
  ]
}